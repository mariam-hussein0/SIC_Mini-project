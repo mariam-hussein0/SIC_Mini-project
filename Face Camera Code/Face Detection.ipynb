{
 "cells": [
  {
   "cell_type": "markdown",
   "id": "d9fe73c0",
   "metadata": {},
   "source": [
    "# 1. Import Libraries"
   ]
  },
  {
   "cell_type": "code",
   "execution_count": null,
   "id": "58a4d1ff",
   "metadata": {},
   "outputs": [],
   "source": [
    "import cv2\n",
    "import matplotlib.pyplot as plt\n",
    "import "
   ]
  },
  {
   "cell_type": "markdown",
   "id": "cefd9121",
   "metadata": {},
   "source": [
    "# 2. Implement Face Detection"
   ]
  },
  {
   "cell_type": "code",
   "execution_count": 2,
   "id": "f7f231d4",
   "metadata": {},
   "outputs": [],
   "source": [
    "# Function to detect Face\n",
    "def detect_and_draw_face(frame):\n",
    "    \"\"\"\n",
    "    Function to detect faces in an image using Haar Cascade Classifier.\n",
    "    inputs:\n",
    "        frame: The input image in which faces need to be detected.\n",
    "    \"\"\"\n",
    "    gray_frame = cv2.cvtColor(frame, cv2.COLOR_BGR2GRAY)\n",
    "    eq_frame = cv2.equalizeHist(gray_frame)\n",
    "    face_cascade = cv2.CascadeClassifier(cv2.data.haarcascades + 'haarcascade_frontalface_default.xml')\n",
    "    face = face_cascade.detectMultiScale(eq_frame, scaleFactor=1.3, minNeighbors=5)\n",
    "\n",
    "    for (x, y, w, h) in face:\n",
    "        cv2.rectangle(frame, (x, y), (x + w, y + h), (255, 0, 0), 2)\n",
    "        cv2.putText(frame, 'Face Detected!', (x, y - 10), cv2.FONT_HERSHEY_SIMPLEX, 0.9, (255, 0, 0), 2)\n",
    "\n",
    "    return frame\n"
   ]
  },
  {
   "cell_type": "code",
   "execution_count": 5,
   "id": "efccadc4",
   "metadata": {},
   "outputs": [],
   "source": [
    "# Load Camera\n",
    "cap = cv2.VideoCapture(0)\n",
    "if not cap.isOpened:\n",
    "    print(\"Error Opening Camera.\")\n",
    "    exit()\n",
    "\n",
    "while True:\n",
    "    ret, frame = cap.read()\n",
    "    if not ret:\n",
    "        print(\"Error Reading Frame.\")\n",
    "        break\n",
    "\n",
    "    frame = detect_and_draw_face(frame)\n",
    "    cv2.imshow('Face Detection', frame)\n",
    "\n",
    "    if cv2.waitKey(1) & 0xFF == ord('q'):\n",
    "        break\n",
    "\n",
    "cap.release()\n",
    "cv2.destroyAllWindows()\n"
   ]
  },
  {
   "cell_type": "code",
   "execution_count": null,
   "id": "3ff66cd2",
   "metadata": {},
   "outputs": [],
   "source": [
    "cap.release()\n",
    "cv2.destroy"
   ]
  },
  {
   "cell_type": "markdown",
   "id": "ce51fb8b",
   "metadata": {},
   "source": [
    "# 3. Read Ultrasonic and open camera"
   ]
  },
  {
   "cell_type": "code",
   "execution_count": null,
   "id": "4ca1dce8",
   "metadata": {},
   "outputs": [],
   "source": [
    "import cv2\n",
    "import time\n",
    "from gpiozero import DistanceSensor\n",
    "\n",
    "# Ultrasonic Pins\n",
    "sensor = DistanceSensor(echo=23, trigger=24, max_distance=2)  \n",
    "\n",
    "# Face detection function\n",
    "def detect_and_draw_face(frame):\n",
    "    gray_frame = cv2.cvtColor(frame, cv2.COLOR_BGR2GRAY)\n",
    "    eq_frame = cv2.equalizeHist(gray_frame)\n",
    "    face_cascade = cv2.CascadeClassifier(cv2.data.haarcascades + 'haarcascade_frontalface_default.xml')\n",
    "    face = face_cascade.detectMultiScale(eq_frame, scaleFactor=1.3, minNeighbors=5)\n",
    "\n",
    "    for (x, y, w, h) in face:\n",
    "        cv2.rectangle(frame, (x, y), (x + w, y + h), (255, 0, 0), 2)\n",
    "        cv2.putText(frame, 'Face Detected!', (x, y - 10),\n",
    "                    cv2.FONT_HERSHEY_SIMPLEX, 0.9, (255, 0, 0), 2)\n",
    "    return frame\n",
    "\n",
    "def camera_loop():\n",
    "    cap = cv2.VideoCapture(0)\n",
    "    if not cap.isOpened():\n",
    "        print(\"Error Opening Camera.\")\n",
    "        return\n",
    "\n",
    "    while True:\n",
    "        # Check distance each loop\n",
    "        distance_cm = sensor.distance * 100\n",
    "        if distance_cm < 2 or distance_cm > 200:\n",
    "            print(\"Object out of range, closing camera...\")\n",
    "            break\n",
    "\n",
    "        ret, frame = cap.read()\n",
    "        if not ret:\n",
    "            print(\"Error Reading Frame.\")\n",
    "            break\n",
    "\n",
    "        frame = detect_and_draw_face(frame)\n",
    "        cv2.imshow('Face Detection', frame)\n",
    "\n",
    "        if cv2.waitKey(1) & 0xFF == ord('q'):\n",
    "            break\n",
    "\n",
    "    cap.release()\n",
    "    cv2.destroyAllWindows()\n",
    "\n",
    "# Main loop\n",
    "while True:\n",
    "    distance_cm = sensor.distance * 100\n",
    "    print(f\"Distance: {distance_cm:.1f} cm\")\n",
    "\n",
    "    if 2 <= distance_cm <= 200:\n",
    "        print(\"Object detected! Starting camera...\")\n",
    "        camera_loop()  \n",
    "\n",
    "    time.sleep(0.2)\n"
   ]
  },
  {
   "cell_type": "markdown",
   "id": "fc91a883",
   "metadata": {},
   "source": []
  }
 ],
 "metadata": {
  "kernelspec": {
   "display_name": "base",
   "language": "python",
   "name": "python3"
  },
  "language_info": {
   "codemirror_mode": {
    "name": "ipython",
    "version": 3
   },
   "file_extension": ".py",
   "mimetype": "text/x-python",
   "name": "python",
   "nbconvert_exporter": "python",
   "pygments_lexer": "ipython3",
   "version": "3.13.5"
  }
 },
 "nbformat": 4,
 "nbformat_minor": 5
}
